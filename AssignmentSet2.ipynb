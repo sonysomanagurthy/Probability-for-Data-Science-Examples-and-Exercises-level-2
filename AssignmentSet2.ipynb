{
  "nbformat": 4,
  "nbformat_minor": 0,
  "metadata": {
    "colab": {
      "provenance": []
    },
    "kernelspec": {
      "name": "python3",
      "display_name": "Python 3"
    },
    "language_info": {
      "name": "python"
    }
  },
  "cells": [
    {
      "cell_type": "code",
      "source": [
        "# Question No:2"
      ],
      "metadata": {
        "id": "DVuI-iT7LxJL"
      },
      "execution_count": null,
      "outputs": []
    },
    {
      "cell_type": "code",
      "source": [
        "from scipy.stats import norm"
      ],
      "metadata": {
        "id": "__5cbITtL1zQ"
      },
      "execution_count": 4,
      "outputs": []
    },
    {
      "cell_type": "code",
      "source": [
        "mean1 = 38  # mean\n",
        "Std_1 = 6  # standard deviation\n",
        "\n",
        "# A. More employees at the processing center are older than 44 than between 38 and 44\n",
        "prop_older_than_44 = 1 - norm.cdf((44 - mean1) / Std_1)\n",
        "prop_between_38_and_44 = norm.cdf((44 - mean1) / Std_1) - norm.cdf((38 - mean1) / Std_1)\n",
        "print(f\"Prop. of employees older than 44: {prop_older_than_44:.2%}\")\n",
        "print(f\"Prop. of employees between 38 and 44: {prop_between_38_and_44:.2%}\")\n",
        "print(f\"Is the statement true? {prop_older_than_44 > prop_between_38_and_44}\")"
      ],
      "metadata": {
        "colab": {
          "base_uri": "https://localhost:8080/"
        },
        "id": "_B5hs1ULL1xK",
        "outputId": "3e424e00-e5ff-4ca5-dbab-93bdb2df2a48"
      },
      "execution_count": 6,
      "outputs": [
        {
          "output_type": "stream",
          "name": "stdout",
          "text": [
            "Prop. of employees older than 44: 15.87%\n",
            "Prop. of employees between 38 and 44: 34.13%\n",
            "Is the statement true? False\n"
          ]
        }
      ]
    },
    {
      "cell_type": "code",
      "source": [
        "# B. A training program for employees under the age of 30 at the center would be expected to attract about 36 employees\n",
        "prop_under_30 = norm.cdf((30 - mean1) / Std_1)\n",
        "num_under_30 = int(round(prop_under_30 * 400))\n",
        "print(f\"Number of employees under 30: {num_under_30}\")\n",
        "print(f\"Is the statement true? {num_under_30 == 36}\")"
      ],
      "metadata": {
        "colab": {
          "base_uri": "https://localhost:8080/"
        },
        "id": "xXD_9THZL1uo",
        "outputId": "edb33a04-7e17-49af-87b8-267acb50bbb0"
      },
      "execution_count": 7,
      "outputs": [
        {
          "output_type": "stream",
          "name": "stdout",
          "text": [
            "Number of employees under 30: 36\n",
            "Is the statement true? True\n"
          ]
        }
      ]
    },
    {
      "cell_type": "code",
      "source": [],
      "metadata": {
        "id": "COcF4ecsM572"
      },
      "execution_count": null,
      "outputs": []
    },
    {
      "cell_type": "code",
      "source": [
        "# Question No: 3\n",
        "import numpy as np\n",
        "import matplotlib.pyplot as plt\n",
        "\n",
        "# Define the parameters\n",
        "mean_1 = 5\n",
        "standard_deviation1 = 2\n",
        "\n",
        "# Generate random samples\n",
        "x1 = np.random.normal(mean_1, standard_deviation1, 10000)\n",
        "x2 = np.random.normal(mean_1, standard_deviation1, 10000)\n",
        "\n",
        "# Calculate the differences\n",
        "diff1 = 2*x1 - (x1+x2)\n",
        "diff2 = x1 - x2\n",
        "\n",
        "# Plot the distributions\n",
        "plt.hist(diff1, bins=50, density=True, alpha=0.5, label='2X1 - (X1 + X2)')\n",
        "plt.hist(diff2, bins=50, density=True, alpha=0.5, label='X1 - X2')\n",
        "plt.legend()\n",
        "plt.show()\n"
      ],
      "metadata": {
        "colab": {
          "base_uri": "https://localhost:8080/",
          "height": 430
        },
        "id": "PGF59SprL1sQ",
        "outputId": "4b297a49-9d60-445e-d0e2-c056d6d012b1"
      },
      "execution_count": 9,
      "outputs": [
        {
          "output_type": "display_data",
          "data": {
            "text/plain": [
              "<Figure size 640x480 with 1 Axes>"
            ],
            "image/png": "[encoded data removed]"
          },
          "metadata": {}
        }
      ]
    },
    {
      "cell_type": "code",
      "source": [],
      "metadata": {
        "id": "GLiG0JrbL1po"
      },
      "execution_count": null,
      "outputs": []
    },
    {
      "cell_type": "code",
      "source": [
        "# Question No: 4\n",
        "import math\n",
        "from scipy.stats import norm\n",
        "\n",
        "m = 100\n",
        "s = math.sqrt(202)\n",
        "\n",
        "# Find the z-score for the values that contain 99% of the distribution\n",
        "z_score = norm.ppf(0.995)\n",
        "\n",
        "# Calculate the values of a and b\n",
        "a = m - z_score * s\n",
        "b = m + z_score * s\n",
        "\n",
        "print(\"The values of a and b are {:.2f} and {:.2f}, respectively.\".format(a, b))\n"
      ],
      "metadata": {
        "colab": {
          "base_uri": "https://localhost:8080/"
        },
        "id": "sw2QKfsPLrdY",
        "outputId": "7084025a-4cf9-4aa7-93e5-c24e22702d35"
      },
      "execution_count": 13,
      "outputs": [
        {
          "output_type": "stream",
          "name": "stdout",
          "text": [
            "The values of a and b are 63.39 and 136.61, respectively.\n"
          ]
        }
      ]
    },
    {
      "cell_type": "code",
      "source": [
        "# Question No: 5\n",
        "import math\n",
        "# A) Specify a Rupee range (centered on the mean) such that it contains 95% probability for the annual profit of the company.\n",
        "mu = 12 * 45  # mean in Rupees\n",
        "sigma = math.sqrt(74) * 45  # standard deviation in Rupees\n",
        "\n",
        "z = 1.96  # 95% confidence interval\n",
        "\n",
        "lower = mu - z * sigma\n",
        "upper = mu + z * sigma\n",
        "\n",
        "print(f\"The Rupee range centered on the mean that contains 95% probability is {lower:.2f} to {upper:.2f}.\")\n"
      ],
      "metadata": {
        "colab": {
          "base_uri": "https://localhost:8080/"
        },
        "id": "gxxrHGjlLndI",
        "outputId": "d3082102-f1fc-4d87-fd27-3c448e117868"
      },
      "execution_count": 14,
      "outputs": [
        {
          "output_type": "stream",
          "name": "stdout",
          "text": [
            "The Rupee range centered on the mean that contains 95% probability is -218.73 to 1298.73.\n"
          ]
        }
      ]
    },
    {
      "cell_type": "code",
      "source": [
        "# B) To find the 5th percentile of profit in Rupees for the company, we can use the cumulative distribution function (CDF) of the total profit distribution. We want to find the value of y such that P(Y <= y) = 0.05.\n",
        "percentile = norm.ppf(0.05, mu, sigma) / 45\n",
        "\n",
        "print(f\"The 5th percentile of profit for the company is {percentile:.2f} million dollars or Rs. {percentile * 45:.2f} crore.\")\n"
      ],
      "metadata": {
        "colab": {
          "base_uri": "https://localhost:8080/"
        },
        "id": "xpD6fwajRS4d",
        "outputId": "7b3074fe-895b-4089-a6db-d033ecae10a3"
      },
      "execution_count": 15,
      "outputs": [
        {
          "output_type": "stream",
          "name": "stdout",
          "text": [
            "The 5th percentile of profit for the company is -2.15 million dollars or Rs. -96.73 crore.\n"
          ]
        }
      ]
    },
    {
      "cell_type": "code",
      "source": [
        "# C) To determine which division has a larger probability of making a loss in a given year, we need to find the probability that each division has negative profits.\n",
        "p1 = norm.cdf(0, 5, math.sqrt(32))\n",
        "print(f\"The probability of Profit1 being negative is {p1:.2f}\")\n"
      ],
      "metadata": {
        "colab": {
          "base_uri": "https://localhost:8080/"
        },
        "id": "d3CtYL-IRYV-",
        "outputId": "5bf7877c-70ce-4af3-958f-ecd66fbd6774"
      },
      "execution_count": 16,
      "outputs": [
        {
          "output_type": "stream",
          "name": "stdout",
          "text": [
            "The probability of Profit1 being negative is 0.19\n"
          ]
        }
      ]
    },
    {
      "cell_type": "code",
      "source": [
        "p2 = norm.cdf(0, 7, math.sqrt(42))\n",
        "print(f\"The probability of Profit2 being negative is {p2:.2f}\")\n"
      ],
      "metadata": {
        "colab": {
          "base_uri": "https://localhost:8080/"
        },
        "id": "NZXICBQBRce9",
        "outputId": "8aa148ac-5ea1-4cf7-8b80-ea6fefdd92f6"
      },
      "execution_count": 17,
      "outputs": [
        {
          "output_type": "stream",
          "name": "stdout",
          "text": [
            "The probability of Profit2 being negative is 0.14\n"
          ]
        }
      ]
    },
    {
      "cell_type": "code",
      "source": [],
      "metadata": {
        "id": "Obr9SAJ1RfTM"
      },
      "execution_count": null,
      "outputs": []
    }
  ]
}