{
  "nbformat": 4,
  "nbformat_minor": 0,
  "metadata": {
    "colab": {
      "provenance": []
    },
    "kernelspec": {
      "name": "python3",
      "display_name": "Python 3"
    },
    "language_info": {
      "name": "python"
    }
  },
  "cells": [
    {
      "cell_type": "code",
      "execution_count": 1,
      "metadata": {
        "colab": {
          "base_uri": "https://localhost:8080/"
        },
        "id": "XYUbN7cEYoPm",
        "outputId": "f6bae368-63a7-45fb-90a8-76b15e2450b4"
      },
      "outputs": [
        {
          "output_type": "stream",
          "name": "stdout",
          "text": [
            "Margin of error: 0.0092\n",
            "Confidence interval: (0.0368, 0.0552)\n"
          ]
        }
      ],
      "source": [
        "# Question No: 5\n",
        "import math\n",
        "\n",
        "sample_size = 2000\n",
        "reported_share = 0.046  # 4.6% as a decimal\n",
        "z_score = 1.96  # for 95% level of confidence\n",
        "std_error = math.sqrt(reported_share*(1-reported_share)/sample_size)\n",
        "margin_error = z_score * std_error\n",
        "lower_ci = reported_share - margin_error\n",
        "upper_ci = reported_share + margin_error\n",
        "\n",
        "print(f\"Margin of error: {margin_error:.4f}\")\n",
        "print(f\"Confidence interval: ({lower_ci:.4f}, {upper_ci:.4f})\")\n"
      ]
    },
    {
      "cell_type": "code",
      "source": [
        "# Question No: 6\n",
        "sample_mean = 250\n",
        "margin_of_error = 45\n",
        "lower_bound = sample_mean - margin_of_error\n",
        "upper_bound = sample_mean + margin_of_error\n",
        "print(\"The 95% confidence interval is:\", (lower_bound, upper_bound))\n"
      ],
      "metadata": {
        "colab": {
          "base_uri": "https://localhost:8080/"
        },
        "id": "yK_1oNd_Yzhh",
        "outputId": "9faa2b12-f6a6-47e3-9e51-f726fbd9a8f5"
      },
      "execution_count": 2,
      "outputs": [
        {
          "output_type": "stream",
          "name": "stdout",
          "text": [
            "The 95% confidence interval is: (205, 295)\n"
          ]
        }
      ]
    },
    {
      "cell_type": "code",
      "source": [
        "# Question No:  8\n",
        "import math\n",
        "\n",
        "# Margin of error (E)\n",
        "E = 0.04\n",
        "\n",
        "# Confidence level (Z)\n",
        "Z = 1.96\n",
        "\n",
        "# Estimated proportion (p)\n",
        "p = 0.5\n",
        "\n",
        "# Calculate minimum sample size (n)\n",
        "n = math.ceil((Z**2 * p * (1-p)) / E**2)\n",
        "\n",
        "print(\"Minimum sample size:\", n)\n",
        " \n"
      ],
      "metadata": {
        "colab": {
          "base_uri": "https://localhost:8080/"
        },
        "id": "0KNr4P0cZmO9",
        "outputId": "45a5d625-c992-4e72-c511-b2c9237c3aee"
      },
      "execution_count": 3,
      "outputs": [
        {
          "output_type": "stream",
          "name": "stdout",
          "text": [
            "Minimum sample size: 601\n"
          ]
        }
      ]
    },
    {
      "cell_type": "code",
      "source": [
        "# Question No: 9\n",
        "import math\n",
        "\n",
        "# Margin of error (E)\n",
        "E = 0.04\n",
        "\n",
        "# Confidence level (Z)\n",
        "Z = 2.33  # corresponds to 98% confidence level\n",
        "\n",
        "# Estimated proportion (p)\n",
        "p = 0.5\n",
        "\n",
        "# Calculate minimum sample size (n)\n",
        "n = math.ceil((Z**2 * p * (1-p)) / E**2)\n",
        "\n",
        "print(\"Minimum sample size:\", n)\n"
      ],
      "metadata": {
        "colab": {
          "base_uri": "https://localhost:8080/"
        },
        "id": "z1P-wxdQcNtI",
        "outputId": "24c7a088-929f-4f2b-ef7e-f6649e395687"
      },
      "execution_count": 4,
      "outputs": [
        {
          "output_type": "stream",
          "name": "stdout",
          "text": [
            "Minimum sample size: 849\n"
          ]
        }
      ]
    },
    {
      "cell_type": "code",
      "source": [],
      "metadata": {
        "id": "JQks5UiecohX"
      },
      "execution_count": null,
      "outputs": []
    }
  ]
}